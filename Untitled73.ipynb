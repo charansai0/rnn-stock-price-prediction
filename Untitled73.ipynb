{
  "nbformat": 4,
  "nbformat_minor": 0,
  "metadata": {
    "colab": {
      "provenance": []
    },
    "kernelspec": {
      "name": "python3",
      "display_name": "Python 3"
    },
    "language_info": {
      "name": "python"
    }
  },
  "cells": [
    {
      "cell_type": "code",
      "execution_count": 3,
      "metadata": {
        "id": "HJ56EACKoFhU"
      },
      "outputs": [],
      "source": [
        "\n",
        "import numpy as np\n",
        "import matplotlib.pyplot as plt\n",
        "import pandas as pd\n",
        "from sklearn.preprocessing import MinMaxScaler\n",
        "from keras import layers\n",
        "from keras.models import Sequential\n"
      ]
    },
    {
      "cell_type": "code",
      "source": [
        "\n",
        "dataset_train = pd.read_csv('trainset.csv')\n"
      ],
      "metadata": {
        "id": "9EEUVInnpEAW"
      },
      "execution_count": 4,
      "outputs": []
    },
    {
      "cell_type": "code",
      "source": [
        "\n",
        "dataset_train.columns\n"
      ],
      "metadata": {
        "colab": {
          "base_uri": "https://localhost:8080/"
        },
        "id": "SLjh2aBUpJrL",
        "outputId": "a21eeb1c-67f0-4c46-f19f-73176c3e15c2"
      },
      "execution_count": 5,
      "outputs": [
        {
          "output_type": "execute_result",
          "data": {
            "text/plain": [
              "Index(['Date', 'Open', 'High', 'Low', 'Close', 'Adj Close', 'Volume'], dtype='object')"
            ]
          },
          "metadata": {},
          "execution_count": 5
        }
      ]
    },
    {
      "cell_type": "code",
      "source": [
        "\n",
        "dataset_train.head()\n",
        "\n"
      ],
      "metadata": {
        "colab": {
          "base_uri": "https://localhost:8080/",
          "height": 206
        },
        "id": "Hlt2TDzPpMn9",
        "outputId": "ad9a1f49-cf32-4725-f0fd-b429e06a8c05"
      },
      "execution_count": 6,
      "outputs": [
        {
          "output_type": "execute_result",
          "data": {
            "text/plain": [
              "         Date        Open        High         Low       Close   Adj Close  \\\n",
              "0  2013-01-02  357.385559  361.151062  355.959839  359.288177  359.288177   \n",
              "1  2013-01-03  360.122742  363.600128  358.031342  359.496826  359.496826   \n",
              "2  2013-01-04  362.313507  368.339294  361.488861  366.600616  366.600616   \n",
              "3  2013-01-07  365.348755  367.301056  362.929504  365.001007  365.001007   \n",
              "4  2013-01-08  365.393463  365.771027  359.874359  364.280701  364.280701   \n",
              "\n",
              "    Volume  \n",
              "0  5115500  \n",
              "1  4666500  \n",
              "2  5562800  \n",
              "3  3332900  \n",
              "4  3373900  "
            ],
            "text/html": [
              "\n",
              "  <div id=\"df-30496ec8-cf03-4e05-91a8-5572a100de76\" class=\"colab-df-container\">\n",
              "    <div>\n",
              "<style scoped>\n",
              "    .dataframe tbody tr th:only-of-type {\n",
              "        vertical-align: middle;\n",
              "    }\n",
              "\n",
              "    .dataframe tbody tr th {\n",
              "        vertical-align: top;\n",
              "    }\n",
              "\n",
              "    .dataframe thead th {\n",
              "        text-align: right;\n",
              "    }\n",
              "</style>\n",
              "<table border=\"1\" class=\"dataframe\">\n",
              "  <thead>\n",
              "    <tr style=\"text-align: right;\">\n",
              "      <th></th>\n",
              "      <th>Date</th>\n",
              "      <th>Open</th>\n",
              "      <th>High</th>\n",
              "      <th>Low</th>\n",
              "      <th>Close</th>\n",
              "      <th>Adj Close</th>\n",
              "      <th>Volume</th>\n",
              "    </tr>\n",
              "  </thead>\n",
              "  <tbody>\n",
              "    <tr>\n",
              "      <th>0</th>\n",
              "      <td>2013-01-02</td>\n",
              "      <td>357.385559</td>\n",
              "      <td>361.151062</td>\n",
              "      <td>355.959839</td>\n",
              "      <td>359.288177</td>\n",
              "      <td>359.288177</td>\n",
              "      <td>5115500</td>\n",
              "    </tr>\n",
              "    <tr>\n",
              "      <th>1</th>\n",
              "      <td>2013-01-03</td>\n",
              "      <td>360.122742</td>\n",
              "      <td>363.600128</td>\n",
              "      <td>358.031342</td>\n",
              "      <td>359.496826</td>\n",
              "      <td>359.496826</td>\n",
              "      <td>4666500</td>\n",
              "    </tr>\n",
              "    <tr>\n",
              "      <th>2</th>\n",
              "      <td>2013-01-04</td>\n",
              "      <td>362.313507</td>\n",
              "      <td>368.339294</td>\n",
              "      <td>361.488861</td>\n",
              "      <td>366.600616</td>\n",
              "      <td>366.600616</td>\n",
              "      <td>5562800</td>\n",
              "    </tr>\n",
              "    <tr>\n",
              "      <th>3</th>\n",
              "      <td>2013-01-07</td>\n",
              "      <td>365.348755</td>\n",
              "      <td>367.301056</td>\n",
              "      <td>362.929504</td>\n",
              "      <td>365.001007</td>\n",
              "      <td>365.001007</td>\n",
              "      <td>3332900</td>\n",
              "    </tr>\n",
              "    <tr>\n",
              "      <th>4</th>\n",
              "      <td>2013-01-08</td>\n",
              "      <td>365.393463</td>\n",
              "      <td>365.771027</td>\n",
              "      <td>359.874359</td>\n",
              "      <td>364.280701</td>\n",
              "      <td>364.280701</td>\n",
              "      <td>3373900</td>\n",
              "    </tr>\n",
              "  </tbody>\n",
              "</table>\n",
              "</div>\n",
              "    <div class=\"colab-df-buttons\">\n",
              "\n",
              "  <div class=\"colab-df-container\">\n",
              "    <button class=\"colab-df-convert\" onclick=\"convertToInteractive('df-30496ec8-cf03-4e05-91a8-5572a100de76')\"\n",
              "            title=\"Convert this dataframe to an interactive table.\"\n",
              "            style=\"display:none;\">\n",
              "\n",
              "  <svg xmlns=\"http://www.w3.org/2000/svg\" height=\"24px\" viewBox=\"0 -960 960 960\">\n",
              "    <path d=\"M120-120v-720h720v720H120Zm60-500h600v-160H180v160Zm220 220h160v-160H400v160Zm0 220h160v-160H400v160ZM180-400h160v-160H180v160Zm440 0h160v-160H620v160ZM180-180h160v-160H180v160Zm440 0h160v-160H620v160Z\"/>\n",
              "  </svg>\n",
              "    </button>\n",
              "\n",
              "  <style>\n",
              "    .colab-df-container {\n",
              "      display:flex;\n",
              "      gap: 12px;\n",
              "    }\n",
              "\n",
              "    .colab-df-convert {\n",
              "      background-color: #E8F0FE;\n",
              "      border: none;\n",
              "      border-radius: 50%;\n",
              "      cursor: pointer;\n",
              "      display: none;\n",
              "      fill: #1967D2;\n",
              "      height: 32px;\n",
              "      padding: 0 0 0 0;\n",
              "      width: 32px;\n",
              "    }\n",
              "\n",
              "    .colab-df-convert:hover {\n",
              "      background-color: #E2EBFA;\n",
              "      box-shadow: 0px 1px 2px rgba(60, 64, 67, 0.3), 0px 1px 3px 1px rgba(60, 64, 67, 0.15);\n",
              "      fill: #174EA6;\n",
              "    }\n",
              "\n",
              "    .colab-df-buttons div {\n",
              "      margin-bottom: 4px;\n",
              "    }\n",
              "\n",
              "    [theme=dark] .colab-df-convert {\n",
              "      background-color: #3B4455;\n",
              "      fill: #D2E3FC;\n",
              "    }\n",
              "\n",
              "    [theme=dark] .colab-df-convert:hover {\n",
              "      background-color: #434B5C;\n",
              "      box-shadow: 0px 1px 3px 1px rgba(0, 0, 0, 0.15);\n",
              "      filter: drop-shadow(0px 1px 2px rgba(0, 0, 0, 0.3));\n",
              "      fill: #FFFFFF;\n",
              "    }\n",
              "  </style>\n",
              "\n",
              "    <script>\n",
              "      const buttonEl =\n",
              "        document.querySelector('#df-30496ec8-cf03-4e05-91a8-5572a100de76 button.colab-df-convert');\n",
              "      buttonEl.style.display =\n",
              "        google.colab.kernel.accessAllowed ? 'block' : 'none';\n",
              "\n",
              "      async function convertToInteractive(key) {\n",
              "        const element = document.querySelector('#df-30496ec8-cf03-4e05-91a8-5572a100de76');\n",
              "        const dataTable =\n",
              "          await google.colab.kernel.invokeFunction('convertToInteractive',\n",
              "                                                    [key], {});\n",
              "        if (!dataTable) return;\n",
              "\n",
              "        const docLinkHtml = 'Like what you see? Visit the ' +\n",
              "          '<a target=\"_blank\" href=https://colab.research.google.com/notebooks/data_table.ipynb>data table notebook</a>'\n",
              "          + ' to learn more about interactive tables.';\n",
              "        element.innerHTML = '';\n",
              "        dataTable['output_type'] = 'display_data';\n",
              "        await google.colab.output.renderOutput(dataTable, element);\n",
              "        const docLink = document.createElement('div');\n",
              "        docLink.innerHTML = docLinkHtml;\n",
              "        element.appendChild(docLink);\n",
              "      }\n",
              "    </script>\n",
              "  </div>\n",
              "\n",
              "\n",
              "<div id=\"df-a6f12a21-7620-485d-ab1d-eb365d97f10b\">\n",
              "  <button class=\"colab-df-quickchart\" onclick=\"quickchart('df-a6f12a21-7620-485d-ab1d-eb365d97f10b')\"\n",
              "            title=\"Suggest charts.\"\n",
              "            style=\"display:none;\">\n",
              "\n",
              "<svg xmlns=\"http://www.w3.org/2000/svg\" height=\"24px\"viewBox=\"0 0 24 24\"\n",
              "     width=\"24px\">\n",
              "    <g>\n",
              "        <path d=\"M19 3H5c-1.1 0-2 .9-2 2v14c0 1.1.9 2 2 2h14c1.1 0 2-.9 2-2V5c0-1.1-.9-2-2-2zM9 17H7v-7h2v7zm4 0h-2V7h2v10zm4 0h-2v-4h2v4z\"/>\n",
              "    </g>\n",
              "</svg>\n",
              "  </button>\n",
              "\n",
              "<style>\n",
              "  .colab-df-quickchart {\n",
              "      --bg-color: #E8F0FE;\n",
              "      --fill-color: #1967D2;\n",
              "      --hover-bg-color: #E2EBFA;\n",
              "      --hover-fill-color: #174EA6;\n",
              "      --disabled-fill-color: #AAA;\n",
              "      --disabled-bg-color: #DDD;\n",
              "  }\n",
              "\n",
              "  [theme=dark] .colab-df-quickchart {\n",
              "      --bg-color: #3B4455;\n",
              "      --fill-color: #D2E3FC;\n",
              "      --hover-bg-color: #434B5C;\n",
              "      --hover-fill-color: #FFFFFF;\n",
              "      --disabled-bg-color: #3B4455;\n",
              "      --disabled-fill-color: #666;\n",
              "  }\n",
              "\n",
              "  .colab-df-quickchart {\n",
              "    background-color: var(--bg-color);\n",
              "    border: none;\n",
              "    border-radius: 50%;\n",
              "    cursor: pointer;\n",
              "    display: none;\n",
              "    fill: var(--fill-color);\n",
              "    height: 32px;\n",
              "    padding: 0;\n",
              "    width: 32px;\n",
              "  }\n",
              "\n",
              "  .colab-df-quickchart:hover {\n",
              "    background-color: var(--hover-bg-color);\n",
              "    box-shadow: 0 1px 2px rgba(60, 64, 67, 0.3), 0 1px 3px 1px rgba(60, 64, 67, 0.15);\n",
              "    fill: var(--button-hover-fill-color);\n",
              "  }\n",
              "\n",
              "  .colab-df-quickchart-complete:disabled,\n",
              "  .colab-df-quickchart-complete:disabled:hover {\n",
              "    background-color: var(--disabled-bg-color);\n",
              "    fill: var(--disabled-fill-color);\n",
              "    box-shadow: none;\n",
              "  }\n",
              "\n",
              "  .colab-df-spinner {\n",
              "    border: 2px solid var(--fill-color);\n",
              "    border-color: transparent;\n",
              "    border-bottom-color: var(--fill-color);\n",
              "    animation:\n",
              "      spin 1s steps(1) infinite;\n",
              "  }\n",
              "\n",
              "  @keyframes spin {\n",
              "    0% {\n",
              "      border-color: transparent;\n",
              "      border-bottom-color: var(--fill-color);\n",
              "      border-left-color: var(--fill-color);\n",
              "    }\n",
              "    20% {\n",
              "      border-color: transparent;\n",
              "      border-left-color: var(--fill-color);\n",
              "      border-top-color: var(--fill-color);\n",
              "    }\n",
              "    30% {\n",
              "      border-color: transparent;\n",
              "      border-left-color: var(--fill-color);\n",
              "      border-top-color: var(--fill-color);\n",
              "      border-right-color: var(--fill-color);\n",
              "    }\n",
              "    40% {\n",
              "      border-color: transparent;\n",
              "      border-right-color: var(--fill-color);\n",
              "      border-top-color: var(--fill-color);\n",
              "    }\n",
              "    60% {\n",
              "      border-color: transparent;\n",
              "      border-right-color: var(--fill-color);\n",
              "    }\n",
              "    80% {\n",
              "      border-color: transparent;\n",
              "      border-right-color: var(--fill-color);\n",
              "      border-bottom-color: var(--fill-color);\n",
              "    }\n",
              "    90% {\n",
              "      border-color: transparent;\n",
              "      border-bottom-color: var(--fill-color);\n",
              "    }\n",
              "  }\n",
              "</style>\n",
              "\n",
              "  <script>\n",
              "    async function quickchart(key) {\n",
              "      const quickchartButtonEl =\n",
              "        document.querySelector('#' + key + ' button');\n",
              "      quickchartButtonEl.disabled = true;  // To prevent multiple clicks.\n",
              "      quickchartButtonEl.classList.add('colab-df-spinner');\n",
              "      try {\n",
              "        const charts = await google.colab.kernel.invokeFunction(\n",
              "            'suggestCharts', [key], {});\n",
              "      } catch (error) {\n",
              "        console.error('Error during call to suggestCharts:', error);\n",
              "      }\n",
              "      quickchartButtonEl.classList.remove('colab-df-spinner');\n",
              "      quickchartButtonEl.classList.add('colab-df-quickchart-complete');\n",
              "    }\n",
              "    (() => {\n",
              "      let quickchartButtonEl =\n",
              "        document.querySelector('#df-a6f12a21-7620-485d-ab1d-eb365d97f10b button');\n",
              "      quickchartButtonEl.style.display =\n",
              "        google.colab.kernel.accessAllowed ? 'block' : 'none';\n",
              "    })();\n",
              "  </script>\n",
              "</div>\n",
              "    </div>\n",
              "  </div>\n"
            ]
          },
          "metadata": {},
          "execution_count": 6
        }
      ]
    },
    {
      "cell_type": "code",
      "source": [
        "\n",
        "train_set = dataset_train.iloc[:,1:2].values\n",
        "\n",
        "type(train_set)\n",
        "\n",
        "train_set.shape\n"
      ],
      "metadata": {
        "colab": {
          "base_uri": "https://localhost:8080/"
        },
        "id": "ChTDm3ofpVDU",
        "outputId": "97ecb7f1-8fe7-4807-b79f-4b176bb3f2b6"
      },
      "execution_count": 7,
      "outputs": [
        {
          "output_type": "execute_result",
          "data": {
            "text/plain": [
              "(1259, 1)"
            ]
          },
          "metadata": {},
          "execution_count": 7
        }
      ]
    },
    {
      "cell_type": "code",
      "source": [
        "\n",
        "sc = MinMaxScaler(feature_range=(0,1))\n",
        "training_set_scaled = sc.fit_transform(train_set)\n",
        "\n",
        "training_set_scaled.shape\n"
      ],
      "metadata": {
        "colab": {
          "base_uri": "https://localhost:8080/"
        },
        "id": "B2AgpkTFpYlL",
        "outputId": "c11ebd0a-c07d-4752-f273-f835bd69f9e0"
      },
      "execution_count": 8,
      "outputs": [
        {
          "output_type": "execute_result",
          "data": {
            "text/plain": [
              "(1259, 1)"
            ]
          },
          "metadata": {},
          "execution_count": 8
        }
      ]
    },
    {
      "cell_type": "code",
      "source": [],
      "metadata": {
        "id": "0pl-5vgipbjX"
      },
      "execution_count": null,
      "outputs": []
    },
    {
      "cell_type": "code",
      "source": [
        "\n",
        "X_train_array = []\n",
        "y_train_array = []\n",
        "for i in range(60, 1259):\n",
        "  X_train_array.append(training_set_scaled[i-60:i,0])\n",
        "  y_train_array.append(training_set_scaled[i,0])\n",
        "X_train, y_train = np.array(X_train_array), np.array(y_train_array)\n",
        "X_train1 = X_train.reshape((X_train.shape[0], X_train.shape[1],1))\n"
      ],
      "metadata": {
        "id": "J4UP20nbpcvK"
      },
      "execution_count": 9,
      "outputs": []
    },
    {
      "cell_type": "code",
      "source": [
        "\n",
        "X_train.shape\n",
        "length = 60\n",
        "n_features = 1\n"
      ],
      "metadata": {
        "id": "eZHAAqJRphZG"
      },
      "execution_count": 10,
      "outputs": []
    },
    {
      "cell_type": "code",
      "source": [
        "\n",
        "model = Sequential()\n",
        "model.add(layers.SimpleRNN(50,input_shape=(length,n_features)))\n",
        "model.add(layers.Dense(1))\n",
        "model.compile(optimizer='adam', loss='mse')\n"
      ],
      "metadata": {
        "id": "Iwq36Z3spjy9"
      },
      "execution_count": 11,
      "outputs": []
    },
    {
      "cell_type": "code",
      "source": [
        "\n",
        "model.summary()\n"
      ],
      "metadata": {
        "colab": {
          "base_uri": "https://localhost:8080/"
        },
        "id": "5xGEal0FpnEI",
        "outputId": "e2903385-7069-4424-c26d-9e784c4faa99"
      },
      "execution_count": 12,
      "outputs": [
        {
          "output_type": "stream",
          "name": "stdout",
          "text": [
            "Model: \"sequential_1\"\n",
            "_________________________________________________________________\n",
            " Layer (type)                Output Shape              Param #   \n",
            "=================================================================\n",
            " simple_rnn_1 (SimpleRNN)    (None, 50)                2600      \n",
            "                                                                 \n",
            " dense_1 (Dense)             (None, 1)                 51        \n",
            "                                                                 \n",
            "=================================================================\n",
            "Total params: 2651 (10.36 KB)\n",
            "Trainable params: 2651 (10.36 KB)\n",
            "Non-trainable params: 0 (0.00 Byte)\n",
            "_________________________________________________________________\n"
          ]
        }
      ]
    },
    {
      "cell_type": "code",
      "source": [
        "\n",
        "model.fit(X_train1,y_train,epochs=100, batch_size=32)\n"
      ],
      "metadata": {
        "colab": {
          "base_uri": "https://localhost:8080/"
        },
        "id": "A0QE_47nppu6",
        "outputId": "f4622f1a-9ea4-46d3-b7fd-6d2a10bea6c2"
      },
      "execution_count": 13,
      "outputs": [
        {
          "output_type": "stream",
          "name": "stdout",
          "text": [
            "Epoch 1/100\n",
            "38/38 [==============================] - 1s 9ms/step - loss: 0.0093\n",
            "Epoch 2/100\n",
            "38/38 [==============================] - 1s 15ms/step - loss: 9.1906e-04\n",
            "Epoch 3/100\n",
            "38/38 [==============================] - 1s 19ms/step - loss: 7.1809e-04\n",
            "Epoch 4/100\n",
            "38/38 [==============================] - 1s 24ms/step - loss: 5.7087e-04\n",
            "Epoch 5/100\n",
            "38/38 [==============================] - 0s 11ms/step - loss: 4.7116e-04\n",
            "Epoch 6/100\n",
            "38/38 [==============================] - 1s 14ms/step - loss: 4.1927e-04\n",
            "Epoch 7/100\n",
            "38/38 [==============================] - 0s 12ms/step - loss: 4.3044e-04\n",
            "Epoch 8/100\n",
            "38/38 [==============================] - 0s 13ms/step - loss: 3.5747e-04\n",
            "Epoch 9/100\n",
            "38/38 [==============================] - 1s 14ms/step - loss: 3.6619e-04\n",
            "Epoch 10/100\n",
            "38/38 [==============================] - 1s 14ms/step - loss: 3.6613e-04\n",
            "Epoch 11/100\n",
            "38/38 [==============================] - 0s 12ms/step - loss: 2.9757e-04\n",
            "Epoch 12/100\n",
            "38/38 [==============================] - 0s 10ms/step - loss: 2.7799e-04\n",
            "Epoch 13/100\n",
            "38/38 [==============================] - 0s 12ms/step - loss: 2.8645e-04\n",
            "Epoch 14/100\n",
            "38/38 [==============================] - 0s 11ms/step - loss: 3.4249e-04\n",
            "Epoch 15/100\n",
            "38/38 [==============================] - 1s 14ms/step - loss: 2.6040e-04\n",
            "Epoch 16/100\n",
            "38/38 [==============================] - 0s 11ms/step - loss: 2.4499e-04\n",
            "Epoch 17/100\n",
            "38/38 [==============================] - 0s 6ms/step - loss: 2.4530e-04\n",
            "Epoch 18/100\n",
            "38/38 [==============================] - 0s 6ms/step - loss: 2.4524e-04\n",
            "Epoch 19/100\n",
            "38/38 [==============================] - 0s 6ms/step - loss: 2.7212e-04\n",
            "Epoch 20/100\n",
            "38/38 [==============================] - 0s 6ms/step - loss: 2.6229e-04\n",
            "Epoch 21/100\n",
            "38/38 [==============================] - 0s 6ms/step - loss: 2.5978e-04\n",
            "Epoch 22/100\n",
            "38/38 [==============================] - 0s 6ms/step - loss: 2.6455e-04\n",
            "Epoch 23/100\n",
            "38/38 [==============================] - 0s 6ms/step - loss: 2.7502e-04\n",
            "Epoch 24/100\n",
            "38/38 [==============================] - 0s 6ms/step - loss: 2.3518e-04\n",
            "Epoch 25/100\n",
            "38/38 [==============================] - 0s 6ms/step - loss: 2.5275e-04\n",
            "Epoch 26/100\n",
            "38/38 [==============================] - 0s 6ms/step - loss: 2.2693e-04\n",
            "Epoch 27/100\n",
            "38/38 [==============================] - 0s 6ms/step - loss: 2.5438e-04\n",
            "Epoch 28/100\n",
            "38/38 [==============================] - 0s 6ms/step - loss: 2.5632e-04\n",
            "Epoch 29/100\n",
            "38/38 [==============================] - 0s 6ms/step - loss: 2.3523e-04\n",
            "Epoch 30/100\n",
            "38/38 [==============================] - 0s 6ms/step - loss: 2.6241e-04\n",
            "Epoch 31/100\n",
            "38/38 [==============================] - 0s 6ms/step - loss: 2.6743e-04\n",
            "Epoch 32/100\n",
            "38/38 [==============================] - 0s 6ms/step - loss: 2.9058e-04\n",
            "Epoch 33/100\n",
            "38/38 [==============================] - 0s 6ms/step - loss: 2.1225e-04\n",
            "Epoch 34/100\n",
            "38/38 [==============================] - 0s 6ms/step - loss: 2.1130e-04\n",
            "Epoch 35/100\n",
            "38/38 [==============================] - 0s 10ms/step - loss: 2.1765e-04\n",
            "Epoch 36/100\n",
            "38/38 [==============================] - 0s 8ms/step - loss: 2.1831e-04\n",
            "Epoch 37/100\n",
            "38/38 [==============================] - 0s 9ms/step - loss: 2.6294e-04\n",
            "Epoch 38/100\n",
            "38/38 [==============================] - 0s 9ms/step - loss: 2.0775e-04\n",
            "Epoch 39/100\n",
            "38/38 [==============================] - 0s 8ms/step - loss: 2.4547e-04\n",
            "Epoch 40/100\n",
            "38/38 [==============================] - 0s 9ms/step - loss: 2.2741e-04\n",
            "Epoch 41/100\n",
            "38/38 [==============================] - 0s 6ms/step - loss: 2.0091e-04\n",
            "Epoch 42/100\n",
            "38/38 [==============================] - 0s 6ms/step - loss: 2.1972e-04\n",
            "Epoch 43/100\n",
            "38/38 [==============================] - 0s 6ms/step - loss: 2.2012e-04\n",
            "Epoch 44/100\n",
            "38/38 [==============================] - 0s 6ms/step - loss: 2.0587e-04\n",
            "Epoch 45/100\n",
            "38/38 [==============================] - 0s 6ms/step - loss: 2.0322e-04\n",
            "Epoch 46/100\n",
            "38/38 [==============================] - 0s 6ms/step - loss: 2.2602e-04\n",
            "Epoch 47/100\n",
            "38/38 [==============================] - 0s 6ms/step - loss: 2.0965e-04\n",
            "Epoch 48/100\n",
            "38/38 [==============================] - 0s 6ms/step - loss: 2.1297e-04\n",
            "Epoch 49/100\n",
            "38/38 [==============================] - 0s 7ms/step - loss: 1.9075e-04\n",
            "Epoch 50/100\n",
            "38/38 [==============================] - 0s 6ms/step - loss: 2.2424e-04\n",
            "Epoch 51/100\n",
            "38/38 [==============================] - 0s 6ms/step - loss: 2.5631e-04\n",
            "Epoch 52/100\n",
            "38/38 [==============================] - 0s 6ms/step - loss: 1.9545e-04\n",
            "Epoch 53/100\n",
            "38/38 [==============================] - 0s 6ms/step - loss: 2.2844e-04\n",
            "Epoch 54/100\n",
            "38/38 [==============================] - 0s 6ms/step - loss: 2.2163e-04\n",
            "Epoch 55/100\n",
            "38/38 [==============================] - 0s 6ms/step - loss: 2.4628e-04\n",
            "Epoch 56/100\n",
            "38/38 [==============================] - 0s 6ms/step - loss: 2.1469e-04\n",
            "Epoch 57/100\n",
            "38/38 [==============================] - 0s 6ms/step - loss: 1.8810e-04\n",
            "Epoch 58/100\n",
            "38/38 [==============================] - 0s 6ms/step - loss: 2.0652e-04\n",
            "Epoch 59/100\n",
            "38/38 [==============================] - 0s 6ms/step - loss: 2.0900e-04\n",
            "Epoch 60/100\n",
            "38/38 [==============================] - 0s 6ms/step - loss: 1.9710e-04\n",
            "Epoch 61/100\n",
            "38/38 [==============================] - 0s 6ms/step - loss: 1.8009e-04\n",
            "Epoch 62/100\n",
            "38/38 [==============================] - 0s 6ms/step - loss: 1.9221e-04\n",
            "Epoch 63/100\n",
            "38/38 [==============================] - 0s 6ms/step - loss: 2.4352e-04\n",
            "Epoch 64/100\n",
            "38/38 [==============================] - 0s 6ms/step - loss: 2.1044e-04\n",
            "Epoch 65/100\n",
            "38/38 [==============================] - 0s 7ms/step - loss: 1.9352e-04\n",
            "Epoch 66/100\n",
            "38/38 [==============================] - 0s 6ms/step - loss: 1.7857e-04\n",
            "Epoch 67/100\n",
            "38/38 [==============================] - 0s 6ms/step - loss: 1.9398e-04\n",
            "Epoch 68/100\n",
            "38/38 [==============================] - 0s 6ms/step - loss: 1.8269e-04\n",
            "Epoch 69/100\n",
            "38/38 [==============================] - 0s 6ms/step - loss: 1.8592e-04\n",
            "Epoch 70/100\n",
            "38/38 [==============================] - 0s 6ms/step - loss: 2.2759e-04\n",
            "Epoch 71/100\n",
            "38/38 [==============================] - 0s 6ms/step - loss: 1.9439e-04\n",
            "Epoch 72/100\n",
            "38/38 [==============================] - 0s 6ms/step - loss: 1.8947e-04\n",
            "Epoch 73/100\n",
            "38/38 [==============================] - 0s 6ms/step - loss: 1.8157e-04\n",
            "Epoch 74/100\n",
            "38/38 [==============================] - 0s 6ms/step - loss: 1.7831e-04\n",
            "Epoch 75/100\n",
            "38/38 [==============================] - 0s 6ms/step - loss: 1.7429e-04\n",
            "Epoch 76/100\n",
            "38/38 [==============================] - 0s 6ms/step - loss: 1.7981e-04\n",
            "Epoch 77/100\n",
            "38/38 [==============================] - 0s 6ms/step - loss: 1.7650e-04\n",
            "Epoch 78/100\n",
            "38/38 [==============================] - 0s 6ms/step - loss: 1.7634e-04\n",
            "Epoch 79/100\n",
            "38/38 [==============================] - 0s 6ms/step - loss: 2.0966e-04\n",
            "Epoch 80/100\n",
            "38/38 [==============================] - 0s 6ms/step - loss: 1.9877e-04\n",
            "Epoch 81/100\n",
            "38/38 [==============================] - 0s 6ms/step - loss: 2.0697e-04\n",
            "Epoch 82/100\n",
            "38/38 [==============================] - 0s 8ms/step - loss: 1.8336e-04\n",
            "Epoch 83/100\n",
            "38/38 [==============================] - 0s 9ms/step - loss: 1.6720e-04\n",
            "Epoch 84/100\n",
            "38/38 [==============================] - 0s 8ms/step - loss: 1.9517e-04\n",
            "Epoch 85/100\n",
            "38/38 [==============================] - 0s 9ms/step - loss: 1.8499e-04\n",
            "Epoch 86/100\n",
            "38/38 [==============================] - 0s 8ms/step - loss: 1.8650e-04\n",
            "Epoch 87/100\n",
            "38/38 [==============================] - 0s 9ms/step - loss: 1.7045e-04\n",
            "Epoch 88/100\n",
            "38/38 [==============================] - 0s 7ms/step - loss: 1.7071e-04\n",
            "Epoch 89/100\n",
            "38/38 [==============================] - 0s 6ms/step - loss: 1.7412e-04\n",
            "Epoch 90/100\n",
            "38/38 [==============================] - 0s 6ms/step - loss: 1.8311e-04\n",
            "Epoch 91/100\n",
            "38/38 [==============================] - 0s 6ms/step - loss: 1.9702e-04\n",
            "Epoch 92/100\n",
            "38/38 [==============================] - 0s 6ms/step - loss: 1.8897e-04\n",
            "Epoch 93/100\n",
            "38/38 [==============================] - 0s 6ms/step - loss: 1.8187e-04\n",
            "Epoch 94/100\n",
            "38/38 [==============================] - 0s 6ms/step - loss: 1.7750e-04\n",
            "Epoch 95/100\n",
            "38/38 [==============================] - 0s 6ms/step - loss: 1.6890e-04\n",
            "Epoch 96/100\n",
            "38/38 [==============================] - 0s 6ms/step - loss: 1.7094e-04\n",
            "Epoch 97/100\n",
            "38/38 [==============================] - 0s 6ms/step - loss: 1.7216e-04\n",
            "Epoch 98/100\n",
            "38/38 [==============================] - 0s 6ms/step - loss: 1.8219e-04\n",
            "Epoch 99/100\n",
            "38/38 [==============================] - 0s 6ms/step - loss: 1.7502e-04\n",
            "Epoch 100/100\n",
            "38/38 [==============================] - 0s 6ms/step - loss: 1.7407e-04\n"
          ]
        },
        {
          "output_type": "execute_result",
          "data": {
            "text/plain": [
              "<keras.src.callbacks.History at 0x7abb42ea8160>"
            ]
          },
          "metadata": {},
          "execution_count": 13
        }
      ]
    },
    {
      "cell_type": "code",
      "source": [
        "\n",
        "dataset_test = pd.read_csv('testset.csv')\n"
      ],
      "metadata": {
        "id": "l6iaDYplpr9C"
      },
      "execution_count": 14,
      "outputs": []
    },
    {
      "cell_type": "code",
      "source": [
        "\n",
        "test_set = dataset_test.iloc[:,1:2].values\n"
      ],
      "metadata": {
        "id": "Q4oUBiq7p3MD"
      },
      "execution_count": 15,
      "outputs": []
    },
    {
      "cell_type": "code",
      "source": [
        "\n",
        "test_set.shape\n",
        "\n",
        "dataset_total = pd.concat((dataset_train['Open'],dataset_test['Open']),axis=0)\n"
      ],
      "metadata": {
        "id": "O4tLPv1Fp5aQ"
      },
      "execution_count": 16,
      "outputs": []
    },
    {
      "cell_type": "code",
      "source": [
        "\n",
        "inputs = dataset_total.values\n",
        "inputs = inputs.reshape(-1,1)\n",
        "inputs_scaled=sc.transform(inputs)\n",
        "X_test = []\n",
        "for i in range(60,1384):\n",
        "  X_test.append(inputs_scaled[i-60:i,0])\n",
        "X_test = np.array(X_test)\n",
        "X_test = np.reshape(X_test,(X_test.shape[0], X_test.shape[1],1))\n"
      ],
      "metadata": {
        "id": "VVeUQiQfp9al"
      },
      "execution_count": 17,
      "outputs": []
    },
    {
      "cell_type": "code",
      "source": [
        "\n",
        "X_test.shape\n",
        "\n"
      ],
      "metadata": {
        "colab": {
          "base_uri": "https://localhost:8080/"
        },
        "id": "7XRXG9OEp_P0",
        "outputId": "1679c32e-88d7-48ae-8ad5-395b4da59bcc"
      },
      "execution_count": 18,
      "outputs": [
        {
          "output_type": "execute_result",
          "data": {
            "text/plain": [
              "(1324, 60, 1)"
            ]
          },
          "metadata": {},
          "execution_count": 18
        }
      ]
    },
    {
      "cell_type": "code",
      "source": [
        "predicted_stock_price_scaled = model.predict(X_test)\n",
        "predicted_stock_price = sc.inverse_transform(predicted_stock_price_scaled)\n",
        "\n",
        "\n"
      ],
      "metadata": {
        "colab": {
          "base_uri": "https://localhost:8080/"
        },
        "id": "Ma62ncKVqA1x",
        "outputId": "81e805d9-ed83-4017-f89f-e39d36ef56ff"
      },
      "execution_count": 19,
      "outputs": [
        {
          "output_type": "stream",
          "name": "stdout",
          "text": [
            "42/42 [==============================] - 0s 3ms/step\n"
          ]
        }
      ]
    },
    {
      "cell_type": "code",
      "source": [
        "plt.plot(np.arange(0,1384),inputs, color='red', label = 'Test(Real) Google stock price')\n",
        "plt.plot(np.arange(60,1384),predicted_stock_price, color='blue', label = 'Predicted Google stock price')\n",
        "plt.title('Google Stock Price Prediction')\n",
        "plt.xlabel('Time')\n",
        "plt.ylabel('Google Stock Price')\n",
        "plt.legend()\n"
      ],
      "metadata": {
        "colab": {
          "base_uri": "https://localhost:8080/",
          "height": 490
        },
        "id": "InZCsMkKqDL7",
        "outputId": "cfee8b58-cf09-4709-8bb5-3a83eda35c01"
      },
      "execution_count": 20,
      "outputs": [
        {
          "output_type": "execute_result",
          "data": {
            "text/plain": [
              "<matplotlib.legend.Legend at 0x7abb432371c0>"
            ]
          },
          "metadata": {},
          "execution_count": 20
        },
        {
          "output_type": "display_data",
          "data": {
            "text/plain": [
              "<Figure size 640x480 with 1 Axes>"
            ],
            "image/png": "[encoded data removed]"
          },
          "metadata": {}
        }
      ]
    },
    {
      "cell_type": "code",
      "source": [],
      "metadata": {
        "id": "z_gA-yY4qEmu"
      },
      "execution_count": null,
      "outputs": []
    }
  ]
}